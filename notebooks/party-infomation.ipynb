{
 "cells": [
  {
   "cell_type": "code",
   "execution_count": 62,
   "metadata": {},
   "outputs": [],
   "source": [
    "import json\n",
    "import io\n",
    "import re\n"
   ]
  },
  {
   "cell_type": "code",
   "execution_count": 5,
   "metadata": {},
   "outputs": [],
   "source": [
    "with open ('../raw-files/all-party-information.json', 'r') as f:\n",
    "    parties = json.load(f)['data_list']"
   ]
  },
  {
   "cell_type": "code",
   "execution_count": 9,
   "metadata": {},
   "outputs": [
    {
     "data": {
      "text/plain": [
       "'we have 104 parties'"
      ]
     },
     "execution_count": 9,
     "metadata": {},
     "output_type": "execute_result"
    }
   ],
   "source": [
    "'we have %d parties' % (len(parties))"
   ]
  },
  {
   "cell_type": "code",
   "execution_count": 88,
   "metadata": {},
   "outputs": [
    {
     "name": "stdout",
     "output_type": "stream",
     "text": [
      "We have 69 PM candidates\n"
     ]
    }
   ],
   "source": [
    "party2candidates = {}\n",
    "with open ('../raw-files/pm-candidates.json', 'r') as f:\n",
    "    candidates = json.load(f)['Result']\n",
    "print(\"We have %d PM candidates\" % len(candidates))\n",
    "for c in candidates:\n",
    "    pno = c['PartyNumber']\n",
    "    if pno not in party2candidates.keys():\n",
    "        party2candidates[pno] = [c]\n",
    "    else:\n",
    "        party2candidates[pno].append(c)"
   ]
  },
  {
   "cell_type": "code",
   "execution_count": 89,
   "metadata": {},
   "outputs": [
    {
     "data": {
      "text/plain": [
       "[{'Sequence': 1,\n",
       "  'Title': 'นาย',\n",
       "  'FirstName': 'พงศา',\n",
       "  'LastName': 'ชูแนม',\n",
       "  'PartyNumber': 206,\n",
       "  'PartyName': 'กรีน'}]"
      ]
     },
     "execution_count": 89,
     "metadata": {},
     "output_type": "execute_result"
    }
   ],
   "source": [
    "party2candidates[206]"
   ]
  },
  {
   "cell_type": "code",
   "execution_count": 105,
   "metadata": {},
   "outputs": [],
   "source": [
    "def write_line(s, template):\n",
    "    s.write('{}\\n\\n'.format(template))\n",
    "    \n",
    "def parties_md_parties(f, n=5):\n",
    "\n",
    "    for i, p in enumerate(parties[:n]):\n",
    "        if n is not None and n < 10:\n",
    "            print(p)\n",
    "        write_func = lambda t: write_line(f, t.format(**p))\n",
    "#         f.write(.format(**p))\n",
    "        write_func('## %d {name_th} ({name_en})' % (i+1))\n",
    "        write_func('#### หัวหน้าพรรค {leader}')\n",
    "        write_func('**Donation code:** {donate_code}')\n",
    "        write_func('**Address:** {address}')\n",
    "        write_func('**Website:** {website}')\n",
    "        write_func('**Policy**\\n```\\n{policy}\\n```')\n",
    "\n",
    "        if p['id_dga'] in party2candidates.keys():\n",
    "            write_func('**PM Candidates**')\n",
    "            for c in sorted(party2candidates[p['id_dga']], key=lambda x: x['Sequence']):\n",
    "                write_func('{Sequence}. {Title} {FirstName} {LastName}'.format(**c))\n",
    "        write_func('')\n",
    "sio = io.StringIO()\n",
    "parties_md_parties(sio, n=None)"
   ]
  },
  {
   "cell_type": "code",
   "execution_count": 106,
   "metadata": {},
   "outputs": [],
   "source": [
    "with open('../raw-files/all-party-infomation-with-pm-candidates.md', 'w') as f:\n",
    "    f.write(sio.getvalue())"
   ]
  },
  {
   "cell_type": "code",
   "execution_count": null,
   "metadata": {},
   "outputs": [],
   "source": []
  }
 ],
 "metadata": {
  "kernelspec": {
   "display_name": "Python-3-Code4th",
   "language": "python",
   "name": "python-3-code4th"
  },
  "language_info": {
   "codemirror_mode": {
    "name": "ipython",
    "version": 3
   },
   "file_extension": ".py",
   "mimetype": "text/x-python",
   "name": "python",
   "nbconvert_exporter": "python",
   "pygments_lexer": "ipython3",
   "version": "3.7.2"
  },
  "toc": {
   "nav_menu": {},
   "number_sections": true,
   "sideBar": true,
   "skip_h1_title": false,
   "toc_cell": false,
   "toc_position": {},
   "toc_section_display": "block",
   "toc_window_display": false
  }
 },
 "nbformat": 4,
 "nbformat_minor": 2
}
